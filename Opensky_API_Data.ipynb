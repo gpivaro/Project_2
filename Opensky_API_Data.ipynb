{
 "cells": [
  {
   "cell_type": "markdown",
   "metadata": {},
   "source": [
    "# Query the live aircraft data from Opensky API"
   ]
  },
  {
   "cell_type": "markdown",
   "metadata": {},
   "source": [
    "This notebook shows how to query live data from the Opensky API.\n",
    "https://opensky-network.org/apidoc/"
   ]
  },
  {
   "cell_type": "code",
   "execution_count": 1,
   "metadata": {},
   "outputs": [],
   "source": [
    "# Import the libraries that will be used in this notebook\n",
    "%matplotlib inline\n",
    "import numpy as np\n",
    "import pandas as pd\n",
    "import matplotlib.pyplot as plt\n",
    "import requests\n",
    "import os"
   ]
  },
  {
   "cell_type": "markdown",
   "metadata": {},
   "source": [
    "## API configuration and query"
   ]
  },
  {
   "cell_type": "code",
   "execution_count": 2,
   "metadata": {},
   "outputs": [],
   "source": [
    "# Save config information.\n",
    "url = \"https://opensky-network.org/api/states/all\"\n",
    "\n",
    "# Build partial query URL\n",
    "query_url = f\"{url}\"\n",
    "\n",
    "#  Perform a request for data\n",
    "response = requests.get(query_url).json()"
   ]
  },
  {
   "cell_type": "code",
   "execution_count": 3,
   "metadata": {},
   "outputs": [
    {
     "data": {
      "text/plain": [
       "1607061890"
      ]
     },
     "execution_count": 3,
     "metadata": {},
     "output_type": "execute_result"
    }
   ],
   "source": [
    "# Time of the query data\n",
    "response[\"time\"]"
   ]
  },
  {
   "cell_type": "code",
   "execution_count": 4,
   "metadata": {},
   "outputs": [
    {
     "data": {
      "text/plain": [
       "2191"
      ]
     },
     "execution_count": 4,
     "metadata": {},
     "output_type": "execute_result"
    }
   ],
   "source": [
    "# Amount of data point of the query data\n",
    "len(response[\"states\"])"
   ]
  },
  {
   "cell_type": "code",
   "execution_count": 5,
   "metadata": {},
   "outputs": [
    {
     "data": {
      "text/plain": [
       "['aa9321',\n",
       " '',\n",
       " 'United States',\n",
       " 1607061889,\n",
       " 1607061889,\n",
       " -15.3513,\n",
       " 54.1372,\n",
       " 11887.2,\n",
       " False,\n",
       " 283.37,\n",
       " 123.37,\n",
       " 0,\n",
       " None,\n",
       " 11498.58,\n",
       " None,\n",
       " False,\n",
       " 0]"
      ]
     },
     "execution_count": 5,
     "metadata": {},
     "output_type": "execute_result"
    }
   ],
   "source": [
    "# One element of the array\n",
    "response[\"states\"][0]"
   ]
  },
  {
   "cell_type": "code",
   "execution_count": 6,
   "metadata": {},
   "outputs": [],
   "source": [
    "# Map data to the dictorary\n",
    "aircraft_live_data = [];\n",
    "for i in range(len(response[\"states\"])):\n",
    "    data = {};\n",
    "    # Test for null and strip spaces in case not null\n",
    "    if response[\"states\"][i][0]:\n",
    "        data[\"icao24\"] = response[\"states\"][i][0].strip()\n",
    "    if response[\"states\"][i][1]:\n",
    "        data[\"callsign\"] = response[\"states\"][i][1].strip()\n",
    "    if response[\"states\"][i][2]:\n",
    "        data[\"origin_country\"] = response[\"states\"][i][2].strip()\n",
    "    data[\"time_position\"] = response[\"states\"][i][3]\n",
    "    data[\"last_contact\"] = response[\"states\"][i][4]\n",
    "    data[\"longitude\"] = response[\"states\"][i][5]\n",
    "    data[\"latitude\"] = response[\"states\"][i][6]\n",
    "    data[\"baro_altitude\"] = response[\"states\"][i][7]\n",
    "    data[\"on_ground\"] = response[\"states\"][i][8]\n",
    "    data[\"velocity\"] = response[\"states\"][i][9]\n",
    "    data[\"true_track\"] = response[\"states\"][i][10]\n",
    "    data[\"vertical_rate\"] = response[\"states\"][i][11]\n",
    "    data[\"sensors\"] = response[\"states\"][i][12]\n",
    "    data[\"geo_altitude\"] = response[\"states\"][i][13]\n",
    "    if response[\"states\"][i][14]:\n",
    "        data[\"squawk\"] = response[\"states\"][i][14].strip()\n",
    "    data[\"spi\"] = response[\"states\"][i][15]\n",
    "    data[\"position_source\"] = response[\"states\"][i][16]\n",
    "    \n",
    "    aircraft_live_data.append(data)"
   ]
  },
  {
   "cell_type": "code",
   "execution_count": 7,
   "metadata": {},
   "outputs": [
    {
     "data": {
      "text/plain": [
       "{'icao24': 'aa9321',\n",
       " 'origin_country': 'United States',\n",
       " 'time_position': 1607061889,\n",
       " 'last_contact': 1607061889,\n",
       " 'longitude': -15.3513,\n",
       " 'latitude': 54.1372,\n",
       " 'baro_altitude': 11887.2,\n",
       " 'on_ground': False,\n",
       " 'velocity': 283.37,\n",
       " 'true_track': 123.37,\n",
       " 'vertical_rate': 0,\n",
       " 'sensors': None,\n",
       " 'geo_altitude': 11498.58,\n",
       " 'spi': False,\n",
       " 'position_source': 0}"
      ]
     },
     "execution_count": 7,
     "metadata": {},
     "output_type": "execute_result"
    }
   ],
   "source": [
    "aircraft_live_data[0]"
   ]
  },
  {
   "cell_type": "markdown",
   "metadata": {},
   "source": [
    "## Save data to MongoDB"
   ]
  },
  {
   "cell_type": "code",
   "execution_count": 9,
   "metadata": {},
   "outputs": [],
   "source": [
    "import pymongo\n",
    "\n",
    "# Use flask_pymongo to set up mongo connection\n",
    "conn =  \"mongodb://localhost:27017/project_3\"\n",
    "client =  pymongo.MongoClient(conn)\n",
    "\n",
    "# identify the collection and drop any existing data for this demonstration\n",
    "db = client.project_3\n",
    "# db.live_aircraft_data.drop()\n",
    "\n",
    "db.live_aircraft_data.insert_many(aircraft_live_data)\n",
    "\n",
    "\n",
    "# query_result = list(db.mars_data.find())\n",
    "# query_result = (db.mars_data.find())\n",
    "query_result = (db.live_aircraft_data.find_one())\n",
    "query_result"
   ]
  },
  {
   "cell_type": "code",
   "execution_count": null,
   "metadata": {},
   "outputs": [],
   "source": []
  }
 ],
 "metadata": {
  "kernelspec": {
   "display_name": "Python 3",
   "language": "python",
   "name": "python3"
  },
  "language_info": {
   "codemirror_mode": {
    "name": "ipython",
    "version": 3
   },
   "file_extension": ".py",
   "mimetype": "text/x-python",
   "name": "python",
   "nbconvert_exporter": "python",
   "pygments_lexer": "ipython3",
   "version": "3.7.6"
  }
 },
 "nbformat": 4,
 "nbformat_minor": 4
}
