{
 "cells": [
  {
   "cell_type": "markdown",
   "metadata": {},
   "source": [
    "# Query the live aircraft data from Opensky API"
   ]
  },
  {
   "cell_type": "markdown",
   "metadata": {},
   "source": [
    "This notebook shows how to query live data from the Opensky API.\n",
    "https://opensky-network.org/apidoc/"
   ]
  },
  {
   "cell_type": "code",
   "execution_count": 1,
   "metadata": {},
   "outputs": [],
   "source": [
    "# Import the libraries that will be used in this notebook\n",
    "%matplotlib inline\n",
    "import numpy as np\n",
    "import pandas as pd\n",
    "import matplotlib.pyplot as plt\n",
    "import requests\n",
    "import os"
   ]
  },
  {
   "cell_type": "markdown",
   "metadata": {},
   "source": [
    "## API configuration and query"
   ]
  },
  {
   "cell_type": "code",
   "execution_count": 2,
   "metadata": {},
   "outputs": [],
   "source": [
    "# Save config information.\n",
    "url = \"https://opensky-network.org/api/states/all\"\n",
    "\n",
    "# Build partial query URL\n",
    "query_url = f\"{url}\"\n",
    "\n",
    "#  Perform a request for data\n",
    "response = requests.get(query_url).json()"
   ]
  },
  {
   "cell_type": "code",
   "execution_count": 3,
   "metadata": {},
   "outputs": [
    {
     "data": {
      "text/plain": [
       "1607125240"
      ]
     },
     "execution_count": 3,
     "metadata": {},
     "output_type": "execute_result"
    }
   ],
   "source": [
    "# Time of the query data\n",
    "response[\"time\"]"
   ]
  },
  {
   "cell_type": "code",
   "execution_count": 4,
   "metadata": {},
   "outputs": [
    {
     "data": {
      "text/plain": [
       "4809"
      ]
     },
     "execution_count": 4,
     "metadata": {},
     "output_type": "execute_result"
    }
   ],
   "source": [
    "# Amount of data point of the query data\n",
    "len(response[\"states\"])"
   ]
  },
  {
   "cell_type": "code",
   "execution_count": 5,
   "metadata": {},
   "outputs": [
    {
     "data": {
      "text/plain": [
       "['a25f32',\n",
       " 'N252CV  ',\n",
       " 'United States',\n",
       " 1607125240,\n",
       " 1607125240,\n",
       " -95.6393,\n",
       " 45.5547,\n",
       " 8229.6,\n",
       " False,\n",
       " 156.65,\n",
       " 60.49,\n",
       " 0,\n",
       " None,\n",
       " 8275.32,\n",
       " None,\n",
       " False,\n",
       " 0]"
      ]
     },
     "execution_count": 5,
     "metadata": {},
     "output_type": "execute_result"
    }
   ],
   "source": [
    "# One element of the array\n",
    "response[\"states\"][0]"
   ]
  },
  {
   "cell_type": "code",
   "execution_count": 6,
   "metadata": {},
   "outputs": [],
   "source": [
    "# Map data to the dictorary\n",
    "aircraft_live_data = [];\n",
    "for i in range(len(response[\"states\"])):\n",
    "    data = {};\n",
    "    # Test for null and strip spaces in case not null\n",
    "    if response[\"states\"][i][0]:\n",
    "        data[\"icao24\"] = response[\"states\"][i][0].strip()\n",
    "    else:\n",
    "        data[\"icao24\"] = response[\"states\"][i][0]\n",
    "    if response[\"states\"][i][1]:\n",
    "        data[\"callsign\"] = response[\"states\"][i][1].strip()\n",
    "    else:\n",
    "        data[\"callsign\"] = response[\"states\"][i][1]\n",
    "    if response[\"states\"][i][2]:\n",
    "        data[\"origin_country\"] = response[\"states\"][i][2].strip()\n",
    "    else:\n",
    "        data[\"origin_country\"] = response[\"states\"][i][2]\n",
    "    data[\"time_position\"] = response[\"states\"][i][3]\n",
    "    data[\"last_contact\"] = response[\"states\"][i][4]\n",
    "    data[\"longitude\"] = response[\"states\"][i][5]\n",
    "    data[\"latitude\"] = response[\"states\"][i][6]\n",
    "    data[\"baro_altitude\"] = response[\"states\"][i][7]\n",
    "    data[\"on_ground\"] = response[\"states\"][i][8]\n",
    "    data[\"velocity\"] = response[\"states\"][i][9]\n",
    "    data[\"true_track\"] = response[\"states\"][i][10]\n",
    "    data[\"vertical_rate\"] = response[\"states\"][i][11]\n",
    "    data[\"sensors\"] = response[\"states\"][i][12]\n",
    "    data[\"geo_altitude\"] = response[\"states\"][i][13]\n",
    "    if response[\"states\"][i][14]:\n",
    "        data[\"squawk\"] = response[\"states\"][i][14].strip()\n",
    "    else:\n",
    "        data[\"squawk\"] = response[\"states\"][i][14]\n",
    "    data[\"spi\"] = response[\"states\"][i][15]\n",
    "    data[\"position_source\"] = response[\"states\"][i][16]\n",
    "    \n",
    "    aircraft_live_data.append(data)"
   ]
  },
  {
   "cell_type": "code",
   "execution_count": 7,
   "metadata": {},
   "outputs": [
    {
     "data": {
      "text/plain": [
       "{'icao24': 'a25f32',\n",
       " 'callsign': 'N252CV',\n",
       " 'origin_country': 'United States',\n",
       " 'time_position': 1607125240,\n",
       " 'last_contact': 1607125240,\n",
       " 'longitude': -95.6393,\n",
       " 'latitude': 45.5547,\n",
       " 'baro_altitude': 8229.6,\n",
       " 'on_ground': False,\n",
       " 'velocity': 156.65,\n",
       " 'true_track': 60.49,\n",
       " 'vertical_rate': 0,\n",
       " 'sensors': None,\n",
       " 'geo_altitude': 8275.32,\n",
       " 'squawk': None,\n",
       " 'spi': False,\n",
       " 'position_source': 0}"
      ]
     },
     "execution_count": 7,
     "metadata": {},
     "output_type": "execute_result"
    }
   ],
   "source": [
    "aircraft_live_data[0]"
   ]
  },
  {
   "cell_type": "markdown",
   "metadata": {},
   "source": [
    "## Save data to MongoDB"
   ]
  },
  {
   "cell_type": "code",
   "execution_count": 14,
   "metadata": {},
   "outputs": [],
   "source": [
    "import pymongo\n",
    "\n",
    "# Use flask_pymongo to set up mongo connection\n",
    "conn =  \"mongodb://localhost:27017/project_3\"\n",
    "client =  pymongo.MongoClient(conn)\n",
    "\n",
    "# identify the collection and drop any existing data for this demonstration\n",
    "db = client.project_3\n",
    "db.live_aircraft_data.drop()\n",
    "\n",
    "# db.live_aircraft_data.insert_many(aircraft_live_data)\n",
    "\n",
    "\n",
    "# query_result = list(db.mars_data.find())\n",
    "# query_result = (db.mars_data.find())\n",
    "query_result = (db.live_aircraft_data.find_one())\n",
    "query_result"
   ]
  },
  {
   "cell_type": "markdown",
   "metadata": {},
   "source": [
    "### Save data to MySQL"
   ]
  },
  {
   "cell_type": "code",
   "execution_count": 9,
   "metadata": {},
   "outputs": [
    {
     "name": "stdout",
     "output_type": "stream",
     "text": [
      "<mysql.connector.connection.MySQLConnection object at 0x11cb4d690>\n",
      "(4849, 'c00734', 'WJA126', 'Canada', 1607125079, 1607125079, -119.229, 49.7308, 12496.8, 0, 238.53, 70.47, -0.33, None, 12679.7, '2624', 0, 0)\n",
      "4849\n"
     ]
    }
   ],
   "source": [
    "import datetime\n",
    "from datetime import datetime\n",
    "import mysql.connector\n",
    "# import database_credentials as dbkeys\n",
    "import os\n",
    "import json\n",
    "\n",
    "with open(\"/etc/config.json\") as config_file:\n",
    "    config = json.load(config_file)\n",
    "\n",
    "\n",
    "# Variables:\n",
    "database_name = \"project_2\"  # the name of the target database\n",
    "table_name = \"aircraft_data\"\n",
    "\n",
    "\n",
    "\n",
    "# Create a function to connect to the MYSQL server\n",
    "def database_connect(hostname, username, password, database=database_name):\n",
    "    mydb = mysql.connector.connect(\n",
    "        host=hostname,\n",
    "        user=username,\n",
    "        passwd=password,\n",
    "        database=database\n",
    "    )\n",
    "    return mydb\n",
    "\n",
    "\n",
    "\n",
    "# Return an object containing the MYSQL connection\n",
    "mydb = database_connect(\n",
    "    config.get(\"MYSQL_HOSTNAME\"),\n",
    "    config.get(\"MYSQL_USERNAME\"),\n",
    "    config.get(\"MYSQL_PASSWORD\")\n",
    "    )\n",
    "print(mydb)\n",
    "\n",
    "\n",
    "# Create the cursor to manipute databases\n",
    "my_cursor = mydb.cursor()\n",
    "# Add unique constraint\n",
    "\n",
    "\n",
    "my_cursor.execute(f\"SELECT * FROM {database_name}.{table_name} ORDER BY id DESC LIMIT 1;\")\n",
    "for records in my_cursor:\n",
    "    print(records)\n",
    "    print(records[0])\n",
    "\n",
    "\n",
    "\n",
    "\n",
    "# Create place holders records to insert into the table\n",
    "sqlStuff = f\"\"\"INSERT INTO {table_name} (icao24, callsign,origin_country,time_position,last_contact,\n",
    "                                        longitude,\n",
    "                                        latitude,\n",
    "                                        baro_altitude,\n",
    "                                        on_ground,\n",
    "                                        velocity,\n",
    "                                        true_track,\n",
    "                                        vertical_rate,\n",
    "                                        sensors,\n",
    "                                        geo_altitude,\n",
    "                                        squawk,\n",
    "                                        spi,\n",
    "                                        position_source)\n",
    "            VALUES (%s, %s, %s, %s, %s, %s, %s, %s,%s, %s, %s, %s, %s, %s, %s, %s, %s) \"\"\""
   ]
  },
  {
   "cell_type": "code",
   "execution_count": 10,
   "metadata": {},
   "outputs": [],
   "source": [
    "for  ii in range(len(aircraft_live_data)):\n",
    "            record1 = (\n",
    "                aircraft_live_data[ii][\"icao24\"],\n",
    "                aircraft_live_data[ii][\"callsign\"],\n",
    "                aircraft_live_data[ii][\"origin_country\"],\n",
    "                aircraft_live_data[ii][\"time_position\"],\n",
    "                aircraft_live_data[ii][\"last_contact\"],\n",
    "                aircraft_live_data[ii][\"longitude\"],\n",
    "                aircraft_live_data[ii][\"latitude\"],\n",
    "                aircraft_live_data[ii][\"baro_altitude\"],\n",
    "                aircraft_live_data[ii][\"on_ground\"],\n",
    "                aircraft_live_data[ii][\"velocity\"],\n",
    "                aircraft_live_data[ii][\"true_track\"],\n",
    "                aircraft_live_data[ii][\"vertical_rate\"],\n",
    "                aircraft_live_data[ii][\"sensors\"],\n",
    "                aircraft_live_data[ii][\"geo_altitude\"],\n",
    "                aircraft_live_data[ii][\"squawk\"],\n",
    "                aircraft_live_data[ii][\"spi\"],\n",
    "                aircraft_live_data[ii][\"position_source\"]\n",
    "                )\n",
    "\n",
    "#             print(record1)\n",
    "                \n",
    "\n",
    "            my_cursor.execute(sqlStuff, record1)\n",
    "\n",
    "mydb.commit()"
   ]
  },
  {
   "cell_type": "code",
   "execution_count": 11,
   "metadata": {},
   "outputs": [],
   "source": [
    "# aircraft_live_data[ii]"
   ]
  },
  {
   "cell_type": "code",
   "execution_count": 12,
   "metadata": {},
   "outputs": [],
   "source": [
    "# my_cursor.execute(sqlStuff, record1)"
   ]
  },
  {
   "cell_type": "code",
   "execution_count": 13,
   "metadata": {},
   "outputs": [],
   "source": [
    "# mydb.commit()"
   ]
  },
  {
   "cell_type": "code",
   "execution_count": 33,
   "metadata": {},
   "outputs": [],
   "source": [
    "for i in range(len(response[\"states\"])):\n",
    "    aircraft_live_data = list(range(0,17))\n",
    "    if response[\"states\"][i][0]:\n",
    "        aircraft_live_data[0] = response[\"states\"][i][0].strip()\n",
    "    else:\n",
    "        aircraft_live_data[0] = response[\"states\"][i][0]\n",
    "    if response[\"states\"][i][1]:\n",
    "        aircraft_live_data[1] = response[\"states\"][i][1].strip()\n",
    "    else:\n",
    "        aircraft_live_data[1] =  response[\"states\"][i][1]\n",
    "    if response[\"states\"][i][2]:\n",
    "        aircraft_live_data[2] =  response[\"states\"][i][2].strip()\n",
    "    else:\n",
    "        aircraft_live_data[2] =  response[\"states\"][i][2]\n",
    "    aircraft_live_data[3] =  response[\"states\"][i][3]\n",
    "    aircraft_live_data[4] =  response[\"states\"][i][4]\n",
    "    aircraft_live_data[5] =  response[\"states\"][i][5]\n",
    "    aircraft_live_data[6] =  response[\"states\"][i][6]\n",
    "    aircraft_live_data[7] =  response[\"states\"][i][7]\n",
    "    aircraft_live_data[8] =  response[\"states\"][i][8]\n",
    "    aircraft_live_data[9] =  response[\"states\"][i][9]\n",
    "    aircraft_live_data[10] =  response[\"states\"][i][10]\n",
    "    aircraft_live_data[11] =  response[\"states\"][i][11]\n",
    "    aircraft_live_data[12] =  response[\"states\"][i][12]\n",
    "    aircraft_live_data[13] =  response[\"states\"][i][13]\n",
    "    if response[\"states\"][i][14]:\n",
    "        aircraft_live_data[14] =  response[\"states\"][i][14].strip()\n",
    "    else:\n",
    "        aircraft_live_data[14] =  response[\"states\"][i][14]\n",
    "    aircraft_live_data[15] =  response[\"states\"][i][15]\n",
    "    aircraft_live_data[16]  = response[\"states\"][i][16]"
   ]
  },
  {
   "cell_type": "code",
   "execution_count": 34,
   "metadata": {},
   "outputs": [
    {
     "data": {
      "text/plain": [
       "['c00734',\n",
       " 'WJA676',\n",
       " 'Canada',\n",
       " 1607135789,\n",
       " 1607135789,\n",
       " -107.2557,\n",
       " 50.764,\n",
       " 11887.2,\n",
       " False,\n",
       " 244.79,\n",
       " 93.37,\n",
       " -0.65,\n",
       " None,\n",
       " 11986.26,\n",
       " None,\n",
       " False,\n",
       " 0]"
      ]
     },
     "execution_count": 34,
     "metadata": {},
     "output_type": "execute_result"
    }
   ],
   "source": [
    "aircraft_live_data"
   ]
  },
  {
   "cell_type": "code",
   "execution_count": 37,
   "metadata": {},
   "outputs": [
    {
     "data": {
      "text/plain": [
       "('c00734',\n",
       " 'WJA676',\n",
       " 'Canada',\n",
       " 1607135789,\n",
       " 1607135789,\n",
       " -107.2557,\n",
       " 50.764,\n",
       " 11887.2,\n",
       " False,\n",
       " 244.79,\n",
       " 93.37,\n",
       " -0.65,\n",
       " None,\n",
       " 11986.26,\n",
       " None,\n",
       " False,\n",
       " 0)"
      ]
     },
     "execution_count": 37,
     "metadata": {},
     "output_type": "execute_result"
    }
   ],
   "source": [
    "(aircraft_live_data[0], \n",
    " aircraft_live_data[1],\n",
    " aircraft_live_data[2],\n",
    " aircraft_live_data[3],\n",
    " aircraft_live_data[4],\n",
    " aircraft_live_data[5],\n",
    " aircraft_live_data[6],\n",
    " aircraft_live_data[7],\n",
    " aircraft_live_data[8],\n",
    " aircraft_live_data[9],\n",
    " aircraft_live_data[10],\n",
    " aircraft_live_data[11],\n",
    " aircraft_live_data[12],\n",
    " aircraft_live_data[13],\n",
    " aircraft_live_data[14],\n",
    " aircraft_live_data[15],\n",
    " aircraft_live_data[16]\n",
    ")"
   ]
  },
  {
   "cell_type": "code",
   "execution_count": null,
   "metadata": {},
   "outputs": [],
   "source": []
  }
 ],
 "metadata": {
  "kernelspec": {
   "display_name": "Python 3",
   "language": "python",
   "name": "python3"
  },
  "language_info": {
   "codemirror_mode": {
    "name": "ipython",
    "version": 3
   },
   "file_extension": ".py",
   "mimetype": "text/x-python",
   "name": "python",
   "nbconvert_exporter": "python",
   "pygments_lexer": "ipython3",
   "version": "3.7.6"
  }
 },
 "nbformat": 4,
 "nbformat_minor": 4
}
